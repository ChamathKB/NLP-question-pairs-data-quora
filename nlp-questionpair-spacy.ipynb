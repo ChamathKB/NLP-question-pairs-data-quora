{
 "cells": [
  {
   "cell_type": "code",
   "execution_count": 23,
   "metadata": {
    "execution": {
     "iopub.execute_input": "2021-08-21T06:08:33.857993Z",
     "iopub.status.busy": "2021-08-21T06:08:33.857591Z",
     "iopub.status.idle": "2021-08-21T06:08:33.873040Z",
     "shell.execute_reply": "2021-08-21T06:08:33.871792Z",
     "shell.execute_reply.started": "2021-08-21T06:08:33.857961Z"
    }
   },
   "outputs": [],
   "source": [
    "import numpy as np\n",
    "import pandas as pd\n",
    "import spacy\n",
    "from sklearn.svm import LinearSVC\n",
    "from sklearn.model_selection import train_test_split\n",
    "import matplotlib.pyplot as plt\n",
    "\n",
    "%matplotlib inline"
   ]
  },
  {
   "cell_type": "markdown",
   "metadata": {},
   "source": [
    "# Loading and Preprocessing data"
   ]
  },
  {
   "cell_type": "code",
   "execution_count": 24,
   "metadata": {
    "execution": {
     "iopub.execute_input": "2021-08-21T06:08:36.417671Z",
     "iopub.status.busy": "2021-08-21T06:08:36.417341Z",
     "iopub.status.idle": "2021-08-21T06:08:43.823528Z",
     "shell.execute_reply": "2021-08-21T06:08:43.822652Z",
     "shell.execute_reply.started": "2021-08-21T06:08:36.417642Z"
    }
   },
   "outputs": [
    {
     "data": {
      "text/html": [
       "<div>\n",
       "<style scoped>\n",
       "    .dataframe tbody tr th:only-of-type {\n",
       "        vertical-align: middle;\n",
       "    }\n",
       "\n",
       "    .dataframe tbody tr th {\n",
       "        vertical-align: top;\n",
       "    }\n",
       "\n",
       "    .dataframe thead th {\n",
       "        text-align: right;\n",
       "    }\n",
       "</style>\n",
       "<table border=\"1\" class=\"dataframe\">\n",
       "  <thead>\n",
       "    <tr style=\"text-align: right;\">\n",
       "      <th></th>\n",
       "      <th>id</th>\n",
       "      <th>qid1</th>\n",
       "      <th>qid2</th>\n",
       "      <th>question1</th>\n",
       "      <th>question2</th>\n",
       "      <th>is_duplicate</th>\n",
       "    </tr>\n",
       "  </thead>\n",
       "  <tbody>\n",
       "    <tr>\n",
       "      <th>0</th>\n",
       "      <td>0</td>\n",
       "      <td>1</td>\n",
       "      <td>2</td>\n",
       "      <td>What is the step by step guide to invest in sh...</td>\n",
       "      <td>What is the step by step guide to invest in sh...</td>\n",
       "      <td>0</td>\n",
       "    </tr>\n",
       "    <tr>\n",
       "      <th>1</th>\n",
       "      <td>1</td>\n",
       "      <td>3</td>\n",
       "      <td>4</td>\n",
       "      <td>What is the story of Kohinoor (Koh-i-Noor) Dia...</td>\n",
       "      <td>What would happen if the Indian government sto...</td>\n",
       "      <td>0</td>\n",
       "    </tr>\n",
       "    <tr>\n",
       "      <th>2</th>\n",
       "      <td>2</td>\n",
       "      <td>5</td>\n",
       "      <td>6</td>\n",
       "      <td>How can I increase the speed of my internet co...</td>\n",
       "      <td>How can Internet speed be increased by hacking...</td>\n",
       "      <td>0</td>\n",
       "    </tr>\n",
       "    <tr>\n",
       "      <th>3</th>\n",
       "      <td>3</td>\n",
       "      <td>7</td>\n",
       "      <td>8</td>\n",
       "      <td>Why am I mentally very lonely? How can I solve...</td>\n",
       "      <td>Find the remainder when [math]23^{24}[/math] i...</td>\n",
       "      <td>0</td>\n",
       "    </tr>\n",
       "    <tr>\n",
       "      <th>4</th>\n",
       "      <td>4</td>\n",
       "      <td>9</td>\n",
       "      <td>10</td>\n",
       "      <td>Which one dissolve in water quikly sugar, salt...</td>\n",
       "      <td>Which fish would survive in salt water?</td>\n",
       "      <td>0</td>\n",
       "    </tr>\n",
       "  </tbody>\n",
       "</table>\n",
       "</div>"
      ],
      "text/plain": [
       "   id  qid1  qid2                                          question1  \\\n",
       "0   0     1     2  What is the step by step guide to invest in sh...   \n",
       "1   1     3     4  What is the story of Kohinoor (Koh-i-Noor) Dia...   \n",
       "2   2     5     6  How can I increase the speed of my internet co...   \n",
       "3   3     7     8  Why am I mentally very lonely? How can I solve...   \n",
       "4   4     9    10  Which one dissolve in water quikly sugar, salt...   \n",
       "\n",
       "                                           question2  is_duplicate  \n",
       "0  What is the step by step guide to invest in sh...             0  \n",
       "1  What would happen if the Indian government sto...             0  \n",
       "2  How can Internet speed be increased by hacking...             0  \n",
       "3  Find the remainder when [math]23^{24}[/math] i...             0  \n",
       "4            Which fish would survive in salt water?             0  "
      ]
     },
     "execution_count": 24,
     "metadata": {},
     "output_type": "execute_result"
    }
   ],
   "source": [
    "# Loading the large model to get the vectors\n",
    "nlp = spacy.load('en_core_web_lg')\n",
    "\n",
    "# Loading dataset\n",
    "question_data = pd.read_csv('../input/question-pairs-dataset/questions.csv')\n",
    "question_data.head()"
   ]
  },
  {
   "cell_type": "markdown",
   "metadata": {},
   "source": [
    "dropng NaN values and comining the question to create a single feature to vectorize"
   ]
  },
  {
   "cell_type": "code",
   "execution_count": 25,
   "metadata": {
    "execution": {
     "iopub.execute_input": "2021-08-21T06:08:48.202631Z",
     "iopub.status.busy": "2021-08-21T06:08:48.202291Z",
     "iopub.status.idle": "2021-08-21T06:08:48.298963Z",
     "shell.execute_reply": "2021-08-21T06:08:48.298036Z",
     "shell.execute_reply.started": "2021-08-21T06:08:48.202603Z"
    }
   },
   "outputs": [],
   "source": [
    "question_data = question_data.dropna()"
   ]
  },
  {
   "cell_type": "code",
   "execution_count": 26,
   "metadata": {
    "execution": {
     "iopub.execute_input": "2021-08-21T06:08:49.937688Z",
     "iopub.status.busy": "2021-08-21T06:08:49.937345Z",
     "iopub.status.idle": "2021-08-21T06:08:50.148801Z",
     "shell.execute_reply": "2021-08-21T06:08:50.148068Z",
     "shell.execute_reply.started": "2021-08-21T06:08:49.937659Z"
    }
   },
   "outputs": [
    {
     "data": {
      "text/html": [
       "<div>\n",
       "<style scoped>\n",
       "    .dataframe tbody tr th:only-of-type {\n",
       "        vertical-align: middle;\n",
       "    }\n",
       "\n",
       "    .dataframe tbody tr th {\n",
       "        vertical-align: top;\n",
       "    }\n",
       "\n",
       "    .dataframe thead th {\n",
       "        text-align: right;\n",
       "    }\n",
       "</style>\n",
       "<table border=\"1\" class=\"dataframe\">\n",
       "  <thead>\n",
       "    <tr style=\"text-align: right;\">\n",
       "      <th></th>\n",
       "      <th>id</th>\n",
       "      <th>qid1</th>\n",
       "      <th>qid2</th>\n",
       "      <th>question1</th>\n",
       "      <th>question2</th>\n",
       "      <th>is_duplicate</th>\n",
       "      <th>combined</th>\n",
       "    </tr>\n",
       "  </thead>\n",
       "  <tbody>\n",
       "    <tr>\n",
       "      <th>0</th>\n",
       "      <td>0</td>\n",
       "      <td>1</td>\n",
       "      <td>2</td>\n",
       "      <td>What is the step by step guide to invest in sh...</td>\n",
       "      <td>What is the step by step guide to invest in sh...</td>\n",
       "      <td>0</td>\n",
       "      <td>What is the step by step guide to invest in sh...</td>\n",
       "    </tr>\n",
       "    <tr>\n",
       "      <th>1</th>\n",
       "      <td>1</td>\n",
       "      <td>3</td>\n",
       "      <td>4</td>\n",
       "      <td>What is the story of Kohinoor (Koh-i-Noor) Dia...</td>\n",
       "      <td>What would happen if the Indian government sto...</td>\n",
       "      <td>0</td>\n",
       "      <td>What is the story of Kohinoor (Koh-i-Noor) Dia...</td>\n",
       "    </tr>\n",
       "    <tr>\n",
       "      <th>2</th>\n",
       "      <td>2</td>\n",
       "      <td>5</td>\n",
       "      <td>6</td>\n",
       "      <td>How can I increase the speed of my internet co...</td>\n",
       "      <td>How can Internet speed be increased by hacking...</td>\n",
       "      <td>0</td>\n",
       "      <td>How can I increase the speed of my internet co...</td>\n",
       "    </tr>\n",
       "    <tr>\n",
       "      <th>3</th>\n",
       "      <td>3</td>\n",
       "      <td>7</td>\n",
       "      <td>8</td>\n",
       "      <td>Why am I mentally very lonely? How can I solve...</td>\n",
       "      <td>Find the remainder when [math]23^{24}[/math] i...</td>\n",
       "      <td>0</td>\n",
       "      <td>Why am I mentally very lonely? How can I solve...</td>\n",
       "    </tr>\n",
       "    <tr>\n",
       "      <th>4</th>\n",
       "      <td>4</td>\n",
       "      <td>9</td>\n",
       "      <td>10</td>\n",
       "      <td>Which one dissolve in water quikly sugar, salt...</td>\n",
       "      <td>Which fish would survive in salt water?</td>\n",
       "      <td>0</td>\n",
       "      <td>Which one dissolve in water quikly sugar, salt...</td>\n",
       "    </tr>\n",
       "  </tbody>\n",
       "</table>\n",
       "</div>"
      ],
      "text/plain": [
       "   id  qid1  qid2                                          question1  \\\n",
       "0   0     1     2  What is the step by step guide to invest in sh...   \n",
       "1   1     3     4  What is the story of Kohinoor (Koh-i-Noor) Dia...   \n",
       "2   2     5     6  How can I increase the speed of my internet co...   \n",
       "3   3     7     8  Why am I mentally very lonely? How can I solve...   \n",
       "4   4     9    10  Which one dissolve in water quikly sugar, salt...   \n",
       "\n",
       "                                           question2  is_duplicate  \\\n",
       "0  What is the step by step guide to invest in sh...             0   \n",
       "1  What would happen if the Indian government sto...             0   \n",
       "2  How can Internet speed be increased by hacking...             0   \n",
       "3  Find the remainder when [math]23^{24}[/math] i...             0   \n",
       "4            Which fish would survive in salt water?             0   \n",
       "\n",
       "                                            combined  \n",
       "0  What is the step by step guide to invest in sh...  \n",
       "1  What is the story of Kohinoor (Koh-i-Noor) Dia...  \n",
       "2  How can I increase the speed of my internet co...  \n",
       "3  Why am I mentally very lonely? How can I solve...  \n",
       "4  Which one dissolve in water quikly sugar, salt...  "
      ]
     },
     "execution_count": 26,
     "metadata": {},
     "output_type": "execute_result"
    }
   ],
   "source": [
    "question_data['combined'] = question_data['question1'] + question_data['question2']\n",
    "question_data.head()"
   ]
  },
  {
   "cell_type": "markdown",
   "metadata": {},
   "source": [
    "loading propotion of rows from original data"
   ]
  },
  {
   "cell_type": "code",
   "execution_count": 27,
   "metadata": {
    "execution": {
     "iopub.execute_input": "2021-08-21T06:08:57.922697Z",
     "iopub.status.busy": "2021-08-21T06:08:57.922231Z",
     "iopub.status.idle": "2021-08-21T06:10:40.169305Z",
     "shell.execute_reply": "2021-08-21T06:10:40.168226Z",
     "shell.execute_reply.started": "2021-08-21T06:08:57.922667Z"
    }
   },
   "outputs": [
    {
     "data": {
      "text/plain": [
       "(10000, 300)"
      ]
     },
     "execution_count": 27,
     "metadata": {},
     "output_type": "execute_result"
    }
   ],
   "source": [
    "questions = question_data[:10000]\n",
    "# disabling other components in the pipeline since only the vectorization is conducted\n",
    "with nlp.disable_pipes():\n",
    "    vectors = np.array([nlp(question.combined).vector for idx, question in questions.iterrows()])\n",
    "    \n",
    "vectors.shape"
   ]
  },
  {
   "cell_type": "markdown",
   "metadata": {},
   "source": [
    "# Training a Model on Document Vectors\n",
    "\n",
    "LinearSVC is used since it can be trained and load fast and our main objectve is to get cosin similarity. "
   ]
  },
  {
   "cell_type": "code",
   "execution_count": 28,
   "metadata": {
    "execution": {
     "iopub.execute_input": "2021-08-21T06:11:00.718646Z",
     "iopub.status.busy": "2021-08-21T06:11:00.718172Z",
     "iopub.status.idle": "2021-08-21T06:11:02.215335Z",
     "shell.execute_reply": "2021-08-21T06:11:02.214076Z",
     "shell.execute_reply.started": "2021-08-21T06:11:00.718612Z"
    }
   },
   "outputs": [
    {
     "name": "stdout",
     "output_type": "stream",
     "text": [
      "Model test accuracy: 67.700%\n"
     ]
    }
   ],
   "source": [
    "X_train, X_test, y_train, y_test = train_test_split(vectors, questions.is_duplicate, \n",
    "                                                    test_size=0.1, random_state=1)\n",
    "\n",
    "\n",
    "model = LinearSVC(random_state=1, dual=False)\n",
    "\n",
    "model.fit(X_train, y_train)\n",
    "\n",
    "\n",
    "print(f'Model test accuracy: {model.score(X_test, y_test)*100:.3f}%')"
   ]
  },
  {
   "cell_type": "markdown",
   "metadata": {},
   "source": [
    "# Find the most similar question\n",
    "\n",
    "Finding the most similar sentances for each sentances given, using the cosine similarity."
   ]
  },
  {
   "cell_type": "code",
   "execution_count": 29,
   "metadata": {
    "execution": {
     "iopub.execute_input": "2021-08-21T06:11:06.933417Z",
     "iopub.status.busy": "2021-08-21T06:11:06.932760Z",
     "iopub.status.idle": "2021-08-21T06:11:06.938632Z",
     "shell.execute_reply": "2021-08-21T06:11:06.937704Z",
     "shell.execute_reply.started": "2021-08-21T06:11:06.933369Z"
    }
   },
   "outputs": [],
   "source": [
    "q1 = ['Donald trump is the president of USA', \n",
    "      'I love samsung phones but they are lagging', \n",
    "      'I know fast food is not healthy but tasty']\n",
    "\n",
    "q2 = ['Tell me more about apple mobile accessories', \n",
    "      'Barack obama is a black by birth', \n",
    "      ' Pizza is great when served in hot']"
   ]
  },
  {
   "cell_type": "code",
   "execution_count": 30,
   "metadata": {
    "execution": {
     "iopub.execute_input": "2021-08-21T06:11:10.322723Z",
     "iopub.status.busy": "2021-08-21T06:11:10.322376Z",
     "iopub.status.idle": "2021-08-21T06:11:10.356097Z",
     "shell.execute_reply": "2021-08-21T06:11:10.355160Z",
     "shell.execute_reply.started": "2021-08-21T06:11:10.322692Z"
    }
   },
   "outputs": [
    {
     "data": {
      "text/plain": [
       "(3, 300)"
      ]
     },
     "execution_count": 30,
     "metadata": {},
     "output_type": "execute_result"
    }
   ],
   "source": [
    "questions = q2\n",
    "# disabling other components in the pipeline since only the vectorization is conducted\n",
    "with nlp.disable_pipes():\n",
    "    vectors = np.array([nlp(question).vector for question in questions])\n",
    "    \n",
    "vectors.shape"
   ]
  },
  {
   "cell_type": "code",
   "execution_count": 31,
   "metadata": {
    "execution": {
     "iopub.execute_input": "2021-08-21T06:11:11.862822Z",
     "iopub.status.busy": "2021-08-21T06:11:11.862494Z",
     "iopub.status.idle": "2021-08-21T06:11:11.896940Z",
     "shell.execute_reply": "2021-08-21T06:11:11.896134Z",
     "shell.execute_reply.started": "2021-08-21T06:11:11.862793Z"
    }
   },
   "outputs": [],
   "source": [
    "similarity = []\n",
    "similar = []\n",
    "\n",
    "for question in q1:\n",
    "\n",
    "    def cosine_similarity(a, b):\n",
    "        return np.dot(a, b)/np.sqrt(a.dot(a)*b.dot(b))\n",
    "\n",
    "    question_vec = nlp(question).vector\n",
    "\n",
    "    ## Center the document vectors\n",
    "    # Calculate the mean for the document vectors\n",
    "    vec_mean = vectors.mean(axis=0)\n",
    "    \n",
    "    # Subtract the mean from the vectors\n",
    "    centered = vectors - vec_mean\n",
    "\n",
    "    # Calculating similarities for each document in the dataset\n",
    "    sims = np.array([cosine_similarity(question_vec - vec_mean, vec) for vec in centered])\n",
    "\n",
    "    # Get the index for the most similar document\n",
    "    most_similar = sims.argmax()\n",
    "    \n",
    "    # List the results\n",
    "    similarity.append(sims)\n",
    "    similar.append(most_similar)"
   ]
  },
  {
   "cell_type": "code",
   "execution_count": 32,
   "metadata": {
    "execution": {
     "iopub.execute_input": "2021-08-21T06:11:18.197961Z",
     "iopub.status.busy": "2021-08-21T06:11:18.197610Z",
     "iopub.status.idle": "2021-08-21T06:11:18.206444Z",
     "shell.execute_reply": "2021-08-21T06:11:18.205303Z",
     "shell.execute_reply.started": "2021-08-21T06:11:18.197929Z"
    }
   },
   "outputs": [
    {
     "data": {
      "text/plain": [
       "[array([-0.30900285,  0.32573262, -0.04206667], dtype=float32),\n",
       " array([ 0.43282998, -0.32563302, -0.09692521], dtype=float32),\n",
       " array([ 0.05160733, -0.36558956,  0.37828922], dtype=float32)]"
      ]
     },
     "metadata": {},
     "output_type": "display_data"
    },
    {
     "data": {
      "text/plain": [
       "[1, 0, 2]"
      ]
     },
     "metadata": {},
     "output_type": "display_data"
    }
   ],
   "source": [
    "display(similarity)\n",
    "display(similar)"
   ]
  },
  {
   "cell_type": "code",
   "execution_count": null,
   "metadata": {},
   "outputs": [],
   "source": []
  }
 ],
 "metadata": {
  "kernelspec": {
   "display_name": "Python 3",
   "language": "python",
   "name": "python3"
  },
  "language_info": {
   "codemirror_mode": {
    "name": "ipython",
    "version": 3
   },
   "file_extension": ".py",
   "mimetype": "text/x-python",
   "name": "python",
   "nbconvert_exporter": "python",
   "pygments_lexer": "ipython3",
   "version": "3.7.4"
  }
 },
 "nbformat": 4,
 "nbformat_minor": 4
}

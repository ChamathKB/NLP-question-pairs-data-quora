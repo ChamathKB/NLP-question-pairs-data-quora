{
 "cells": [
  {
   "cell_type": "code",
   "execution_count": 1,
   "metadata": {
    "_uuid": "9715243e8457b1bdc1d4fef95504e3532daf4f72",
    "execution": {
     "iopub.execute_input": "2021-08-21T09:47:42.647602Z",
     "iopub.status.busy": "2021-08-21T09:47:42.647231Z",
     "iopub.status.idle": "2021-08-21T09:47:50.227169Z",
     "shell.execute_reply": "2021-08-21T09:47:50.226341Z",
     "shell.execute_reply.started": "2021-08-21T09:47:42.647523Z"
    }
   },
   "outputs": [],
   "source": [
    "import pandas as pd\n",
    "import numpy as np\n",
    "import re\n",
    "import spacy\n",
    "from nltk.stem import WordNetLemmatizer\n",
    "from nltk.corpus import stopwords\n",
    "\n",
    "from keras.preprocessing.text import Tokenizer\n",
    "from keras.preprocessing.sequence import pad_sequences\n",
    "from keras.layers import Dense , Input , LSTM , Embedding, Dropout , Bidirectional, GlobalMaxPool1D, dot\n",
    "from keras.models import Model"
   ]
  },
  {
   "cell_type": "markdown",
   "metadata": {},
   "source": [
    "## Loading and Preprocessing data"
   ]
  },
  {
   "cell_type": "code",
   "execution_count": 2,
   "metadata": {
    "_uuid": "9715243e8457b1bdc1d4fef95504e3532daf4f72",
    "execution": {
     "iopub.execute_input": "2021-08-21T09:47:53.822509Z",
     "iopub.status.busy": "2021-08-21T09:47:53.822194Z",
     "iopub.status.idle": "2021-08-21T09:47:55.866977Z",
     "shell.execute_reply": "2021-08-21T09:47:55.866150Z",
     "shell.execute_reply.started": "2021-08-21T09:47:53.822482Z"
    }
   },
   "outputs": [
    {
     "data": {
      "text/html": [
       "<div>\n",
       "<style scoped>\n",
       "    .dataframe tbody tr th:only-of-type {\n",
       "        vertical-align: middle;\n",
       "    }\n",
       "\n",
       "    .dataframe tbody tr th {\n",
       "        vertical-align: top;\n",
       "    }\n",
       "\n",
       "    .dataframe thead th {\n",
       "        text-align: right;\n",
       "    }\n",
       "</style>\n",
       "<table border=\"1\" class=\"dataframe\">\n",
       "  <thead>\n",
       "    <tr style=\"text-align: right;\">\n",
       "      <th></th>\n",
       "      <th>question1</th>\n",
       "      <th>question2</th>\n",
       "      <th>is_duplicate</th>\n",
       "    </tr>\n",
       "  </thead>\n",
       "  <tbody>\n",
       "    <tr>\n",
       "      <th>0</th>\n",
       "      <td>What is the step by step guide to invest in sh...</td>\n",
       "      <td>What is the step by step guide to invest in sh...</td>\n",
       "      <td>0</td>\n",
       "    </tr>\n",
       "    <tr>\n",
       "      <th>1</th>\n",
       "      <td>What is the story of Kohinoor (Koh-i-Noor) Dia...</td>\n",
       "      <td>What would happen if the Indian government sto...</td>\n",
       "      <td>0</td>\n",
       "    </tr>\n",
       "    <tr>\n",
       "      <th>2</th>\n",
       "      <td>How can I increase the speed of my internet co...</td>\n",
       "      <td>How can Internet speed be increased by hacking...</td>\n",
       "      <td>0</td>\n",
       "    </tr>\n",
       "    <tr>\n",
       "      <th>3</th>\n",
       "      <td>Why am I mentally very lonely? How can I solve...</td>\n",
       "      <td>Find the remainder when [math]23^{24}[/math] i...</td>\n",
       "      <td>0</td>\n",
       "    </tr>\n",
       "    <tr>\n",
       "      <th>4</th>\n",
       "      <td>Which one dissolve in water quikly sugar, salt...</td>\n",
       "      <td>Which fish would survive in salt water?</td>\n",
       "      <td>0</td>\n",
       "    </tr>\n",
       "  </tbody>\n",
       "</table>\n",
       "</div>"
      ],
      "text/plain": [
       "                                           question1  \\\n",
       "0  What is the step by step guide to invest in sh...   \n",
       "1  What is the story of Kohinoor (Koh-i-Noor) Dia...   \n",
       "2  How can I increase the speed of my internet co...   \n",
       "3  Why am I mentally very lonely? How can I solve...   \n",
       "4  Which one dissolve in water quikly sugar, salt...   \n",
       "\n",
       "                                           question2  is_duplicate  \n",
       "0  What is the step by step guide to invest in sh...             0  \n",
       "1  What would happen if the Indian government sto...             0  \n",
       "2  How can Internet speed be increased by hacking...             0  \n",
       "3  Find the remainder when [math]23^{24}[/math] i...             0  \n",
       "4            Which fish would survive in salt water?             0  "
      ]
     },
     "execution_count": 2,
     "metadata": {},
     "output_type": "execute_result"
    }
   ],
   "source": [
    "df = pd.read_csv('../input/question-pairs-dataset/questions.csv')\n",
    "df = df.drop(['id','qid1','qid2'],axis=1)\n",
    "df.head()"
   ]
  },
  {
   "cell_type": "code",
   "execution_count": 3,
   "metadata": {
    "_uuid": "a8ae46c995a47d484610e4e9d1063437bd4da0ae",
    "execution": {
     "iopub.execute_input": "2021-08-21T09:47:59.242296Z",
     "iopub.status.busy": "2021-08-21T09:47:59.241936Z",
     "iopub.status.idle": "2021-08-21T09:47:59.253222Z",
     "shell.execute_reply": "2021-08-21T09:47:59.252326Z",
     "shell.execute_reply.started": "2021-08-21T09:47:59.242258Z"
    }
   },
   "outputs": [],
   "source": [
    "stop_words = set(stopwords.words(\"english\")) \n",
    "lemmatizer = WordNetLemmatizer()\n",
    "\n",
    "def clean_text(text):\n",
    "    \"\"\"Removing special characters, uppercase letters and lemmatizing\"\"\"\n",
    "    \n",
    "    text = re.sub(r'[^\\w\\s]','',text, re.UNICODE)\n",
    "    text = text.lower()\n",
    "    text = [lemmatizer.lemmatize(token) for token in text.split(\" \")]\n",
    "    text = [lemmatizer.lemmatize(token, \"v\") for token in text]\n",
    "    text = \" \".join(text)\n",
    "    return text"
   ]
  },
  {
   "cell_type": "code",
   "execution_count": 4,
   "metadata": {
    "_uuid": "191db8c0207fbbfcf1eaf3d068a5f323cf8e0c92",
    "execution": {
     "iopub.execute_input": "2021-08-21T09:48:03.117912Z",
     "iopub.status.busy": "2021-08-21T09:48:03.117528Z",
     "iopub.status.idle": "2021-08-21T09:49:23.922423Z",
     "shell.execute_reply": "2021-08-21T09:49:23.921521Z",
     "shell.execute_reply.started": "2021-08-21T09:48:03.117880Z"
    }
   },
   "outputs": [
    {
     "data": {
      "text/html": [
       "<div>\n",
       "<style scoped>\n",
       "    .dataframe tbody tr th:only-of-type {\n",
       "        vertical-align: middle;\n",
       "    }\n",
       "\n",
       "    .dataframe tbody tr th {\n",
       "        vertical-align: top;\n",
       "    }\n",
       "\n",
       "    .dataframe thead th {\n",
       "        text-align: right;\n",
       "    }\n",
       "</style>\n",
       "<table border=\"1\" class=\"dataframe\">\n",
       "  <thead>\n",
       "    <tr style=\"text-align: right;\">\n",
       "      <th></th>\n",
       "      <th>question1</th>\n",
       "      <th>question2</th>\n",
       "      <th>is_duplicate</th>\n",
       "    </tr>\n",
       "  </thead>\n",
       "  <tbody>\n",
       "    <tr>\n",
       "      <th>0</th>\n",
       "      <td>what be the step by step guide to invest in sh...</td>\n",
       "      <td>what be the step by step guide to invest in sh...</td>\n",
       "      <td>0</td>\n",
       "    </tr>\n",
       "    <tr>\n",
       "      <th>1</th>\n",
       "      <td>what be the story of kohinoor kohinoor diamond</td>\n",
       "      <td>what would happen if the indian government ste...</td>\n",
       "      <td>0</td>\n",
       "    </tr>\n",
       "    <tr>\n",
       "      <th>2</th>\n",
       "      <td>how can i increase the speed of my internet co...</td>\n",
       "      <td>how can internet speed be increase by hack thr...</td>\n",
       "      <td>0</td>\n",
       "    </tr>\n",
       "    <tr>\n",
       "      <th>3</th>\n",
       "      <td>why be i mentally very lonely how can i solve it</td>\n",
       "      <td>find the remainder when math2324math be divide...</td>\n",
       "      <td>0</td>\n",
       "    </tr>\n",
       "    <tr>\n",
       "      <th>4</th>\n",
       "      <td>which one dissolve in water quikly sugar salt ...</td>\n",
       "      <td>which fish would survive in salt water</td>\n",
       "      <td>0</td>\n",
       "    </tr>\n",
       "  </tbody>\n",
       "</table>\n",
       "</div>"
      ],
      "text/plain": [
       "                                           question1  \\\n",
       "0  what be the step by step guide to invest in sh...   \n",
       "1     what be the story of kohinoor kohinoor diamond   \n",
       "2  how can i increase the speed of my internet co...   \n",
       "3   why be i mentally very lonely how can i solve it   \n",
       "4  which one dissolve in water quikly sugar salt ...   \n",
       "\n",
       "                                           question2  is_duplicate  \n",
       "0  what be the step by step guide to invest in sh...             0  \n",
       "1  what would happen if the indian government ste...             0  \n",
       "2  how can internet speed be increase by hack thr...             0  \n",
       "3  find the remainder when math2324math be divide...             0  \n",
       "4             which fish would survive in salt water             0  "
      ]
     },
     "execution_count": 4,
     "metadata": {},
     "output_type": "execute_result"
    }
   ],
   "source": [
    "df['question1'] = df.question1.apply(lambda x: clean_text(str(x)))\n",
    "df['question2'] = df.question2.apply(lambda x: clean_text(str(x)))\n",
    "df.head()"
   ]
  },
  {
   "cell_type": "code",
   "execution_count": 5,
   "metadata": {
    "_uuid": "dc052a05b17e0a6a45e560020db55e6cf28b1619",
    "execution": {
     "iopub.execute_input": "2021-08-21T09:49:28.027200Z",
     "iopub.status.busy": "2021-08-21T09:49:28.026881Z",
     "iopub.status.idle": "2021-08-21T09:49:28.032841Z",
     "shell.execute_reply": "2021-08-21T09:49:28.030609Z",
     "shell.execute_reply.started": "2021-08-21T09:49:28.027172Z"
    }
   },
   "outputs": [],
   "source": [
    "y = df['is_duplicate']"
   ]
  },
  {
   "cell_type": "code",
   "execution_count": 6,
   "metadata": {
    "_uuid": "4469e6a7ee3e5124b4304b640069281dcffa00fb",
    "execution": {
     "iopub.execute_input": "2021-08-21T09:49:31.242458Z",
     "iopub.status.busy": "2021-08-21T09:49:31.242133Z",
     "iopub.status.idle": "2021-08-21T09:49:55.280553Z",
     "shell.execute_reply": "2021-08-21T09:49:55.279673Z",
     "shell.execute_reply.started": "2021-08-21T09:49:31.242431Z"
    }
   },
   "outputs": [],
   "source": [
    "total_text = pd.concat([df['question1'], df['question2']]).reset_index(drop=True)\n",
    "\n",
    "max_features = 6000\n",
    "\n",
    "tokenizer = Tokenizer(num_words=max_features)\n",
    "tokenizer.fit_on_texts(total_text)\n",
    "\n",
    "question1_sequenced = tokenizer.texts_to_sequences(df['question1'])\n",
    "question2_sequenced = tokenizer.texts_to_sequences(df['question2'])"
   ]
  },
  {
   "cell_type": "code",
   "execution_count": 7,
   "metadata": {
    "_uuid": "78b2f94b10910d8abee048ec52990f9b08a5f85a",
    "execution": {
     "iopub.execute_input": "2021-08-21T09:49:58.847445Z",
     "iopub.status.busy": "2021-08-21T09:49:58.847111Z",
     "iopub.status.idle": "2021-08-21T09:50:04.336115Z",
     "shell.execute_reply": "2021-08-21T09:50:04.335238Z",
     "shell.execute_reply.started": "2021-08-21T09:49:58.847414Z"
    }
   },
   "outputs": [],
   "source": [
    "maxlen = 100\n",
    "question1_padded = pad_sequences(question1_sequenced, maxlen=maxlen)\n",
    "question2_padded = pad_sequences(question2_sequenced, maxlen=maxlen)"
   ]
  },
  {
   "cell_type": "markdown",
   "metadata": {},
   "source": [
    "## Training the Model"
   ]
  },
  {
   "cell_type": "code",
   "execution_count": 8,
   "metadata": {
    "_uuid": "bcb005fa73cb018fff1d3bd52783268c8c321591",
    "execution": {
     "iopub.execute_input": "2021-08-21T09:50:07.757184Z",
     "iopub.status.busy": "2021-08-21T09:50:07.756859Z",
     "iopub.status.idle": "2021-08-21T09:50:07.761526Z",
     "shell.execute_reply": "2021-08-21T09:50:07.760335Z",
     "shell.execute_reply.started": "2021-08-21T09:50:07.757157Z"
    }
   },
   "outputs": [],
   "source": [
    "embedding_size = 128\n",
    "batch_size = 100\n",
    "epochs = 3"
   ]
  },
  {
   "cell_type": "code",
   "execution_count": 9,
   "metadata": {
    "_uuid": "bcb005fa73cb018fff1d3bd52783268c8c321591",
    "execution": {
     "iopub.execute_input": "2021-08-21T09:50:11.552732Z",
     "iopub.status.busy": "2021-08-21T09:50:11.552371Z",
     "iopub.status.idle": "2021-08-21T09:50:14.714203Z",
     "shell.execute_reply": "2021-08-21T09:50:14.713271Z",
     "shell.execute_reply.started": "2021-08-21T09:50:11.552701Z"
    }
   },
   "outputs": [],
   "source": [
    "inp1 = Input(shape=(100,))\n",
    "inp2 = Input(shape=(100,))\n",
    "\n",
    "x1 = Embedding(max_features, embedding_size)(inp1)\n",
    "x2 = Embedding(max_features, embedding_size)(inp2)\n",
    "\n",
    "x1 = Bidirectional(LSTM(32, return_sequences = True))(x1)\n",
    "x2 = Bidirectional(LSTM(32, return_sequences = True))(x2)\n",
    "\n",
    "x1 = GlobalMaxPool1D()(x1)\n",
    "x2 = GlobalMaxPool1D()(x2)\n",
    "\n",
    "x =  dot([x1, x2], axes=1)\n",
    "\n",
    "x = Dense(40, activation='relu')(x)\n",
    "x = Dropout(0.05)(x)\n",
    "x = Dense(10, activation='relu')(x)\n",
    "\n",
    "output = Dense(1, activation='sigmoid')(x)\n",
    "\n",
    "model = Model(inputs=[inp1, inp2], outputs=output)\n",
    "\n",
    "model.compile(loss='binary_crossentropy', optimizer='adam', metrics=['accuracy'])"
   ]
  },
  {
   "cell_type": "code",
   "execution_count": 10,
   "metadata": {
    "_uuid": "bcb005fa73cb018fff1d3bd52783268c8c321591",
    "execution": {
     "iopub.execute_input": "2021-08-21T09:50:18.502508Z",
     "iopub.status.busy": "2021-08-21T09:50:18.502194Z",
     "iopub.status.idle": "2021-08-21T09:56:35.966364Z",
     "shell.execute_reply": "2021-08-21T09:56:35.965518Z",
     "shell.execute_reply.started": "2021-08-21T09:50:18.502480Z"
    }
   },
   "outputs": [
    {
     "name": "stdout",
     "output_type": "stream",
     "text": [
      "Epoch 1/3\n",
      "3235/3235 [==============================] - 134s 38ms/step - loss: 0.5515 - accuracy: 0.7202 - val_loss: 0.4913 - val_accuracy: 0.7632\n",
      "Epoch 2/3\n",
      "3235/3235 [==============================] - 121s 37ms/step - loss: 0.4588 - accuracy: 0.7841 - val_loss: 0.4573 - val_accuracy: 0.7836\n",
      "Epoch 3/3\n",
      "3235/3235 [==============================] - 122s 38ms/step - loss: 0.3945 - accuracy: 0.8193 - val_loss: 0.4487 - val_accuracy: 0.7926\n"
     ]
    }
   ],
   "source": [
    "history = model.fit([question1_padded, question2_padded], y, \n",
    "          batch_size=batch_size, \n",
    "          epochs=epochs, \n",
    "          validation_split=0.2)"
   ]
  },
  {
   "cell_type": "markdown",
   "metadata": {},
   "source": [
    "# Find the most similar question\n",
    "\n",
    "Finding the most similar sentances for each sentances given, using the cosine similarity."
   ]
  },
  {
   "cell_type": "code",
   "execution_count": 11,
   "metadata": {
    "execution": {
     "iopub.execute_input": "2021-08-21T09:56:44.143203Z",
     "iopub.status.busy": "2021-08-21T09:56:44.142877Z",
     "iopub.status.idle": "2021-08-21T09:56:44.146924Z",
     "shell.execute_reply": "2021-08-21T09:56:44.146094Z",
     "shell.execute_reply.started": "2021-08-21T09:56:44.143175Z"
    }
   },
   "outputs": [],
   "source": [
    "q1 = ['Donald trump is the president of USA', \n",
    "      'I love samsung phones but they are lagging', \n",
    "      'I know fast food is not healthy but tasty']\n",
    "\n",
    "q2 = ['Tell me more about apple mobile accessories', \n",
    "      'Barack obama is a black by birth', \n",
    "      ' Pizza is great when served in hot']"
   ]
  },
  {
   "cell_type": "code",
   "execution_count": 12,
   "metadata": {
    "execution": {
     "iopub.execute_input": "2021-08-21T09:56:47.633139Z",
     "iopub.status.busy": "2021-08-21T09:56:47.632798Z",
     "iopub.status.idle": "2021-08-21T09:56:47.637121Z",
     "shell.execute_reply": "2021-08-21T09:56:47.636265Z",
     "shell.execute_reply.started": "2021-08-21T09:56:47.633108Z"
    }
   },
   "outputs": [],
   "source": [
    "def cosine_similarity(a, b):\n",
    "    \"\"\"Generating cosin similarity\"\"\"\n",
    "    return np.dot(a, b)/np.sqrt(a.dot(a)*b.dot(b))"
   ]
  },
  {
   "cell_type": "code",
   "execution_count": 13,
   "metadata": {
    "execution": {
     "iopub.execute_input": "2021-08-21T09:56:51.727236Z",
     "iopub.status.busy": "2021-08-21T09:56:51.726920Z",
     "iopub.status.idle": "2021-08-21T09:56:59.783380Z",
     "shell.execute_reply": "2021-08-21T09:56:59.782600Z",
     "shell.execute_reply.started": "2021-08-21T09:56:51.727209Z"
    }
   },
   "outputs": [
    {
     "data": {
      "text/plain": [
       "(3, 300)"
      ]
     },
     "execution_count": 13,
     "metadata": {},
     "output_type": "execute_result"
    }
   ],
   "source": [
    "# Loading the large model to get the vectors\n",
    "nlp = spacy.load('en_core_web_lg')\n",
    "\n",
    "questions = q2\n",
    "# disabling other components in the pipeline since only the vectorization is conducted\n",
    "with nlp.disable_pipes():\n",
    "    vectors = np.array([nlp(question).vector for question in questions])\n",
    "    \n",
    "vectors.shape"
   ]
  },
  {
   "cell_type": "code",
   "execution_count": 14,
   "metadata": {
    "execution": {
     "iopub.execute_input": "2021-08-21T09:57:03.412969Z",
     "iopub.status.busy": "2021-08-21T09:57:03.412584Z",
     "iopub.status.idle": "2021-08-21T09:57:03.449301Z",
     "shell.execute_reply": "2021-08-21T09:57:03.448476Z",
     "shell.execute_reply.started": "2021-08-21T09:57:03.412938Z"
    }
   },
   "outputs": [],
   "source": [
    "similarity = []\n",
    "similar = []\n",
    "\n",
    "for question in q1:\n",
    "\n",
    "\n",
    "    question_vec = nlp(question).vector\n",
    "\n",
    "    ## Center the document vectors\n",
    "    # Calculate the mean for the document vectors\n",
    "    vec_mean = vectors.mean(axis=0)\n",
    "    \n",
    "    # Subtract the mean from the vectors\n",
    "    centered = vectors - vec_mean\n",
    "\n",
    "    # Calculating similarities for each document in the dataset\n",
    "    sims = np.array([cosine_similarity(question_vec - vec_mean, vec) for vec in centered])\n",
    "\n",
    "    # Get the index for the most similar document\n",
    "    most_similar = sims.argmax()\n",
    "    \n",
    "    # List the results\n",
    "    similarity.append(sims)\n",
    "    similar.append(most_similar)"
   ]
  },
  {
   "cell_type": "code",
   "execution_count": 15,
   "metadata": {
    "execution": {
     "iopub.execute_input": "2021-08-21T09:57:09.572276Z",
     "iopub.status.busy": "2021-08-21T09:57:09.571954Z",
     "iopub.status.idle": "2021-08-21T09:57:09.585913Z",
     "shell.execute_reply": "2021-08-21T09:57:09.584995Z",
     "shell.execute_reply.started": "2021-08-21T09:57:09.572247Z"
    }
   },
   "outputs": [
    {
     "data": {
      "text/plain": [
       "[array([-0.30900288,  0.32573262, -0.04206669], dtype=float32),\n",
       " array([ 0.43283004, -0.32563302, -0.09692521], dtype=float32),\n",
       " array([ 0.05160734, -0.36558956,  0.37828922], dtype=float32)]"
      ]
     },
     "metadata": {},
     "output_type": "display_data"
    },
    {
     "data": {
      "text/plain": [
       "[1, 0, 2]"
      ]
     },
     "metadata": {},
     "output_type": "display_data"
    }
   ],
   "source": [
    "display(similarity)\n",
    "display(similar)"
   ]
  },
  {
   "cell_type": "code",
   "execution_count": 16,
   "metadata": {
    "execution": {
     "iopub.execute_input": "2021-08-21T09:57:13.353082Z",
     "iopub.status.busy": "2021-08-21T09:57:13.352741Z",
     "iopub.status.idle": "2021-08-21T09:57:13.359285Z",
     "shell.execute_reply": "2021-08-21T09:57:13.358372Z",
     "shell.execute_reply.started": "2021-08-21T09:57:13.353055Z"
    }
   },
   "outputs": [
    {
     "name": "stdout",
     "output_type": "stream",
     "text": [
      "[array([-0.30900288,  0.32573262, -0.04206669], dtype=float32), array([ 0.43283004, -0.32563302, -0.09692521], dtype=float32), array([ 0.05160734, -0.36558956,  0.37828922], dtype=float32)]\n",
      "[1, 0, 2]\n"
     ]
    }
   ],
   "source": [
    "print(similarity)\n",
    "print(similar)"
   ]
  },
  {
   "cell_type": "code",
   "execution_count": null,
   "metadata": {},
   "outputs": [],
   "source": []
  }
 ],
 "metadata": {
  "kernelspec": {
   "display_name": "Python 3",
   "language": "python",
   "name": "python3"
  },
  "language_info": {
   "codemirror_mode": {
    "name": "ipython",
    "version": 3
   },
   "file_extension": ".py",
   "mimetype": "text/x-python",
   "name": "python",
   "nbconvert_exporter": "python",
   "pygments_lexer": "ipython3",
   "version": "3.7.4"
  }
 },
 "nbformat": 4,
 "nbformat_minor": 4
}
